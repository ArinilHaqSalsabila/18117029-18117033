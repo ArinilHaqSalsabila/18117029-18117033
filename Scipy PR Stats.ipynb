{
 "cells": [
  {
   "cell_type": "code",
   "execution_count": 1,
   "metadata": {},
   "outputs": [
    {
     "data": {
      "text/html": [
       "<div>\n",
       "<style scoped>\n",
       "    .dataframe tbody tr th:only-of-type {\n",
       "        vertical-align: middle;\n",
       "    }\n",
       "\n",
       "    .dataframe tbody tr th {\n",
       "        vertical-align: top;\n",
       "    }\n",
       "\n",
       "    .dataframe thead th {\n",
       "        text-align: right;\n",
       "    }\n",
       "</style>\n",
       "<table border=\"1\" class=\"dataframe\">\n",
       "  <thead>\n",
       "    <tr style=\"text-align: right;\">\n",
       "      <th></th>\n",
       "      <th>Unnamed: 0</th>\n",
       "      <th>Gender</th>\n",
       "      <th>FSIQ</th>\n",
       "      <th>VIQ</th>\n",
       "      <th>PIQ</th>\n",
       "      <th>Weight</th>\n",
       "      <th>Height</th>\n",
       "      <th>MRI_Count</th>\n",
       "    </tr>\n",
       "  </thead>\n",
       "  <tbody>\n",
       "    <tr>\n",
       "      <th>0</th>\n",
       "      <td>1</td>\n",
       "      <td>Female</td>\n",
       "      <td>133</td>\n",
       "      <td>132</td>\n",
       "      <td>124</td>\n",
       "      <td>118.0</td>\n",
       "      <td>64.5</td>\n",
       "      <td>816932</td>\n",
       "    </tr>\n",
       "    <tr>\n",
       "      <th>1</th>\n",
       "      <td>2</td>\n",
       "      <td>Male</td>\n",
       "      <td>140</td>\n",
       "      <td>150</td>\n",
       "      <td>124</td>\n",
       "      <td>NaN</td>\n",
       "      <td>72.5</td>\n",
       "      <td>1001121</td>\n",
       "    </tr>\n",
       "    <tr>\n",
       "      <th>2</th>\n",
       "      <td>3</td>\n",
       "      <td>Male</td>\n",
       "      <td>139</td>\n",
       "      <td>123</td>\n",
       "      <td>150</td>\n",
       "      <td>143.0</td>\n",
       "      <td>73.3</td>\n",
       "      <td>1038437</td>\n",
       "    </tr>\n",
       "    <tr>\n",
       "      <th>3</th>\n",
       "      <td>4</td>\n",
       "      <td>Male</td>\n",
       "      <td>133</td>\n",
       "      <td>129</td>\n",
       "      <td>128</td>\n",
       "      <td>172.0</td>\n",
       "      <td>68.8</td>\n",
       "      <td>965353</td>\n",
       "    </tr>\n",
       "    <tr>\n",
       "      <th>4</th>\n",
       "      <td>5</td>\n",
       "      <td>Female</td>\n",
       "      <td>137</td>\n",
       "      <td>132</td>\n",
       "      <td>134</td>\n",
       "      <td>147.0</td>\n",
       "      <td>65.0</td>\n",
       "      <td>951545</td>\n",
       "    </tr>\n",
       "    <tr>\n",
       "      <th>5</th>\n",
       "      <td>6</td>\n",
       "      <td>Female</td>\n",
       "      <td>99</td>\n",
       "      <td>90</td>\n",
       "      <td>110</td>\n",
       "      <td>146.0</td>\n",
       "      <td>69.0</td>\n",
       "      <td>928799</td>\n",
       "    </tr>\n",
       "    <tr>\n",
       "      <th>6</th>\n",
       "      <td>7</td>\n",
       "      <td>Female</td>\n",
       "      <td>138</td>\n",
       "      <td>136</td>\n",
       "      <td>131</td>\n",
       "      <td>138.0</td>\n",
       "      <td>64.5</td>\n",
       "      <td>991305</td>\n",
       "    </tr>\n",
       "    <tr>\n",
       "      <th>7</th>\n",
       "      <td>8</td>\n",
       "      <td>Female</td>\n",
       "      <td>92</td>\n",
       "      <td>90</td>\n",
       "      <td>98</td>\n",
       "      <td>175.0</td>\n",
       "      <td>66.0</td>\n",
       "      <td>854258</td>\n",
       "    </tr>\n",
       "    <tr>\n",
       "      <th>8</th>\n",
       "      <td>9</td>\n",
       "      <td>Male</td>\n",
       "      <td>89</td>\n",
       "      <td>93</td>\n",
       "      <td>84</td>\n",
       "      <td>134.0</td>\n",
       "      <td>66.3</td>\n",
       "      <td>904858</td>\n",
       "    </tr>\n",
       "    <tr>\n",
       "      <th>9</th>\n",
       "      <td>10</td>\n",
       "      <td>Male</td>\n",
       "      <td>133</td>\n",
       "      <td>114</td>\n",
       "      <td>147</td>\n",
       "      <td>172.0</td>\n",
       "      <td>68.8</td>\n",
       "      <td>955466</td>\n",
       "    </tr>\n",
       "    <tr>\n",
       "      <th>10</th>\n",
       "      <td>11</td>\n",
       "      <td>Female</td>\n",
       "      <td>132</td>\n",
       "      <td>129</td>\n",
       "      <td>124</td>\n",
       "      <td>118.0</td>\n",
       "      <td>64.5</td>\n",
       "      <td>833868</td>\n",
       "    </tr>\n",
       "    <tr>\n",
       "      <th>11</th>\n",
       "      <td>12</td>\n",
       "      <td>Male</td>\n",
       "      <td>141</td>\n",
       "      <td>150</td>\n",
       "      <td>128</td>\n",
       "      <td>151.0</td>\n",
       "      <td>70.0</td>\n",
       "      <td>1079549</td>\n",
       "    </tr>\n",
       "    <tr>\n",
       "      <th>12</th>\n",
       "      <td>13</td>\n",
       "      <td>Male</td>\n",
       "      <td>135</td>\n",
       "      <td>129</td>\n",
       "      <td>124</td>\n",
       "      <td>155.0</td>\n",
       "      <td>69.0</td>\n",
       "      <td>924059</td>\n",
       "    </tr>\n",
       "    <tr>\n",
       "      <th>13</th>\n",
       "      <td>14</td>\n",
       "      <td>Female</td>\n",
       "      <td>140</td>\n",
       "      <td>120</td>\n",
       "      <td>147</td>\n",
       "      <td>155.0</td>\n",
       "      <td>70.5</td>\n",
       "      <td>856472</td>\n",
       "    </tr>\n",
       "    <tr>\n",
       "      <th>14</th>\n",
       "      <td>15</td>\n",
       "      <td>Female</td>\n",
       "      <td>96</td>\n",
       "      <td>100</td>\n",
       "      <td>90</td>\n",
       "      <td>146.0</td>\n",
       "      <td>66.0</td>\n",
       "      <td>878897</td>\n",
       "    </tr>\n",
       "    <tr>\n",
       "      <th>15</th>\n",
       "      <td>16</td>\n",
       "      <td>Female</td>\n",
       "      <td>83</td>\n",
       "      <td>71</td>\n",
       "      <td>96</td>\n",
       "      <td>135.0</td>\n",
       "      <td>68.0</td>\n",
       "      <td>865363</td>\n",
       "    </tr>\n",
       "    <tr>\n",
       "      <th>16</th>\n",
       "      <td>17</td>\n",
       "      <td>Female</td>\n",
       "      <td>132</td>\n",
       "      <td>132</td>\n",
       "      <td>120</td>\n",
       "      <td>127.0</td>\n",
       "      <td>68.5</td>\n",
       "      <td>852244</td>\n",
       "    </tr>\n",
       "    <tr>\n",
       "      <th>17</th>\n",
       "      <td>18</td>\n",
       "      <td>Male</td>\n",
       "      <td>100</td>\n",
       "      <td>96</td>\n",
       "      <td>102</td>\n",
       "      <td>178.0</td>\n",
       "      <td>73.5</td>\n",
       "      <td>945088</td>\n",
       "    </tr>\n",
       "    <tr>\n",
       "      <th>18</th>\n",
       "      <td>19</td>\n",
       "      <td>Female</td>\n",
       "      <td>101</td>\n",
       "      <td>112</td>\n",
       "      <td>84</td>\n",
       "      <td>136.0</td>\n",
       "      <td>66.3</td>\n",
       "      <td>808020</td>\n",
       "    </tr>\n",
       "    <tr>\n",
       "      <th>19</th>\n",
       "      <td>20</td>\n",
       "      <td>Male</td>\n",
       "      <td>80</td>\n",
       "      <td>77</td>\n",
       "      <td>86</td>\n",
       "      <td>180.0</td>\n",
       "      <td>70.0</td>\n",
       "      <td>889083</td>\n",
       "    </tr>\n",
       "    <tr>\n",
       "      <th>20</th>\n",
       "      <td>21</td>\n",
       "      <td>Male</td>\n",
       "      <td>83</td>\n",
       "      <td>83</td>\n",
       "      <td>86</td>\n",
       "      <td>NaN</td>\n",
       "      <td>NaN</td>\n",
       "      <td>892420</td>\n",
       "    </tr>\n",
       "    <tr>\n",
       "      <th>21</th>\n",
       "      <td>22</td>\n",
       "      <td>Male</td>\n",
       "      <td>97</td>\n",
       "      <td>107</td>\n",
       "      <td>84</td>\n",
       "      <td>186.0</td>\n",
       "      <td>76.5</td>\n",
       "      <td>905940</td>\n",
       "    </tr>\n",
       "    <tr>\n",
       "      <th>22</th>\n",
       "      <td>23</td>\n",
       "      <td>Female</td>\n",
       "      <td>135</td>\n",
       "      <td>129</td>\n",
       "      <td>134</td>\n",
       "      <td>122.0</td>\n",
       "      <td>62.0</td>\n",
       "      <td>790619</td>\n",
       "    </tr>\n",
       "    <tr>\n",
       "      <th>23</th>\n",
       "      <td>24</td>\n",
       "      <td>Male</td>\n",
       "      <td>139</td>\n",
       "      <td>145</td>\n",
       "      <td>128</td>\n",
       "      <td>132.0</td>\n",
       "      <td>68.0</td>\n",
       "      <td>955003</td>\n",
       "    </tr>\n",
       "    <tr>\n",
       "      <th>24</th>\n",
       "      <td>25</td>\n",
       "      <td>Female</td>\n",
       "      <td>91</td>\n",
       "      <td>86</td>\n",
       "      <td>102</td>\n",
       "      <td>114.0</td>\n",
       "      <td>63.0</td>\n",
       "      <td>831772</td>\n",
       "    </tr>\n",
       "    <tr>\n",
       "      <th>25</th>\n",
       "      <td>26</td>\n",
       "      <td>Male</td>\n",
       "      <td>141</td>\n",
       "      <td>145</td>\n",
       "      <td>131</td>\n",
       "      <td>171.0</td>\n",
       "      <td>72.0</td>\n",
       "      <td>935494</td>\n",
       "    </tr>\n",
       "    <tr>\n",
       "      <th>26</th>\n",
       "      <td>27</td>\n",
       "      <td>Female</td>\n",
       "      <td>85</td>\n",
       "      <td>90</td>\n",
       "      <td>84</td>\n",
       "      <td>140.0</td>\n",
       "      <td>68.0</td>\n",
       "      <td>798612</td>\n",
       "    </tr>\n",
       "    <tr>\n",
       "      <th>27</th>\n",
       "      <td>28</td>\n",
       "      <td>Male</td>\n",
       "      <td>103</td>\n",
       "      <td>96</td>\n",
       "      <td>110</td>\n",
       "      <td>187.0</td>\n",
       "      <td>77.0</td>\n",
       "      <td>1062462</td>\n",
       "    </tr>\n",
       "    <tr>\n",
       "      <th>28</th>\n",
       "      <td>29</td>\n",
       "      <td>Female</td>\n",
       "      <td>77</td>\n",
       "      <td>83</td>\n",
       "      <td>72</td>\n",
       "      <td>106.0</td>\n",
       "      <td>63.0</td>\n",
       "      <td>793549</td>\n",
       "    </tr>\n",
       "    <tr>\n",
       "      <th>29</th>\n",
       "      <td>30</td>\n",
       "      <td>Female</td>\n",
       "      <td>130</td>\n",
       "      <td>126</td>\n",
       "      <td>124</td>\n",
       "      <td>159.0</td>\n",
       "      <td>66.5</td>\n",
       "      <td>866662</td>\n",
       "    </tr>\n",
       "    <tr>\n",
       "      <th>30</th>\n",
       "      <td>31</td>\n",
       "      <td>Female</td>\n",
       "      <td>133</td>\n",
       "      <td>126</td>\n",
       "      <td>132</td>\n",
       "      <td>127.0</td>\n",
       "      <td>62.5</td>\n",
       "      <td>857782</td>\n",
       "    </tr>\n",
       "    <tr>\n",
       "      <th>31</th>\n",
       "      <td>32</td>\n",
       "      <td>Male</td>\n",
       "      <td>144</td>\n",
       "      <td>145</td>\n",
       "      <td>137</td>\n",
       "      <td>191.0</td>\n",
       "      <td>67.0</td>\n",
       "      <td>949589</td>\n",
       "    </tr>\n",
       "    <tr>\n",
       "      <th>32</th>\n",
       "      <td>33</td>\n",
       "      <td>Male</td>\n",
       "      <td>103</td>\n",
       "      <td>96</td>\n",
       "      <td>110</td>\n",
       "      <td>192.0</td>\n",
       "      <td>75.5</td>\n",
       "      <td>997925</td>\n",
       "    </tr>\n",
       "    <tr>\n",
       "      <th>33</th>\n",
       "      <td>34</td>\n",
       "      <td>Male</td>\n",
       "      <td>90</td>\n",
       "      <td>96</td>\n",
       "      <td>86</td>\n",
       "      <td>181.0</td>\n",
       "      <td>69.0</td>\n",
       "      <td>879987</td>\n",
       "    </tr>\n",
       "    <tr>\n",
       "      <th>34</th>\n",
       "      <td>35</td>\n",
       "      <td>Female</td>\n",
       "      <td>83</td>\n",
       "      <td>90</td>\n",
       "      <td>81</td>\n",
       "      <td>143.0</td>\n",
       "      <td>66.5</td>\n",
       "      <td>834344</td>\n",
       "    </tr>\n",
       "    <tr>\n",
       "      <th>35</th>\n",
       "      <td>36</td>\n",
       "      <td>Female</td>\n",
       "      <td>133</td>\n",
       "      <td>129</td>\n",
       "      <td>128</td>\n",
       "      <td>153.0</td>\n",
       "      <td>66.5</td>\n",
       "      <td>948066</td>\n",
       "    </tr>\n",
       "    <tr>\n",
       "      <th>36</th>\n",
       "      <td>37</td>\n",
       "      <td>Male</td>\n",
       "      <td>140</td>\n",
       "      <td>150</td>\n",
       "      <td>124</td>\n",
       "      <td>144.0</td>\n",
       "      <td>70.5</td>\n",
       "      <td>949395</td>\n",
       "    </tr>\n",
       "    <tr>\n",
       "      <th>37</th>\n",
       "      <td>38</td>\n",
       "      <td>Female</td>\n",
       "      <td>88</td>\n",
       "      <td>86</td>\n",
       "      <td>94</td>\n",
       "      <td>139.0</td>\n",
       "      <td>64.5</td>\n",
       "      <td>893983</td>\n",
       "    </tr>\n",
       "    <tr>\n",
       "      <th>38</th>\n",
       "      <td>39</td>\n",
       "      <td>Male</td>\n",
       "      <td>81</td>\n",
       "      <td>90</td>\n",
       "      <td>74</td>\n",
       "      <td>148.0</td>\n",
       "      <td>74.0</td>\n",
       "      <td>930016</td>\n",
       "    </tr>\n",
       "    <tr>\n",
       "      <th>39</th>\n",
       "      <td>40</td>\n",
       "      <td>Male</td>\n",
       "      <td>89</td>\n",
       "      <td>91</td>\n",
       "      <td>89</td>\n",
       "      <td>179.0</td>\n",
       "      <td>75.5</td>\n",
       "      <td>935863</td>\n",
       "    </tr>\n",
       "  </tbody>\n",
       "</table>\n",
       "</div>"
      ],
      "text/plain": [
       "    Unnamed: 0  Gender  FSIQ  VIQ  PIQ  Weight  Height  MRI_Count\n",
       "0            1  Female   133  132  124   118.0    64.5     816932\n",
       "1            2    Male   140  150  124     NaN    72.5    1001121\n",
       "2            3    Male   139  123  150   143.0    73.3    1038437\n",
       "3            4    Male   133  129  128   172.0    68.8     965353\n",
       "4            5  Female   137  132  134   147.0    65.0     951545\n",
       "5            6  Female    99   90  110   146.0    69.0     928799\n",
       "6            7  Female   138  136  131   138.0    64.5     991305\n",
       "7            8  Female    92   90   98   175.0    66.0     854258\n",
       "8            9    Male    89   93   84   134.0    66.3     904858\n",
       "9           10    Male   133  114  147   172.0    68.8     955466\n",
       "10          11  Female   132  129  124   118.0    64.5     833868\n",
       "11          12    Male   141  150  128   151.0    70.0    1079549\n",
       "12          13    Male   135  129  124   155.0    69.0     924059\n",
       "13          14  Female   140  120  147   155.0    70.5     856472\n",
       "14          15  Female    96  100   90   146.0    66.0     878897\n",
       "15          16  Female    83   71   96   135.0    68.0     865363\n",
       "16          17  Female   132  132  120   127.0    68.5     852244\n",
       "17          18    Male   100   96  102   178.0    73.5     945088\n",
       "18          19  Female   101  112   84   136.0    66.3     808020\n",
       "19          20    Male    80   77   86   180.0    70.0     889083\n",
       "20          21    Male    83   83   86     NaN     NaN     892420\n",
       "21          22    Male    97  107   84   186.0    76.5     905940\n",
       "22          23  Female   135  129  134   122.0    62.0     790619\n",
       "23          24    Male   139  145  128   132.0    68.0     955003\n",
       "24          25  Female    91   86  102   114.0    63.0     831772\n",
       "25          26    Male   141  145  131   171.0    72.0     935494\n",
       "26          27  Female    85   90   84   140.0    68.0     798612\n",
       "27          28    Male   103   96  110   187.0    77.0    1062462\n",
       "28          29  Female    77   83   72   106.0    63.0     793549\n",
       "29          30  Female   130  126  124   159.0    66.5     866662\n",
       "30          31  Female   133  126  132   127.0    62.5     857782\n",
       "31          32    Male   144  145  137   191.0    67.0     949589\n",
       "32          33    Male   103   96  110   192.0    75.5     997925\n",
       "33          34    Male    90   96   86   181.0    69.0     879987\n",
       "34          35  Female    83   90   81   143.0    66.5     834344\n",
       "35          36  Female   133  129  128   153.0    66.5     948066\n",
       "36          37    Male   140  150  124   144.0    70.5     949395\n",
       "37          38  Female    88   86   94   139.0    64.5     893983\n",
       "38          39    Male    81   90   74   148.0    74.0     930016\n",
       "39          40    Male    89   91   89   179.0    75.5     935863"
      ]
     },
     "execution_count": 1,
     "metadata": {},
     "output_type": "execute_result"
    }
   ],
   "source": [
    "import pandas as pd\n",
    "data = pd.read_csv('brain_size.csv', sep=';', na_values=\".\")\n",
    "data "
   ]
  },
  {
   "cell_type": "code",
   "execution_count": 2,
   "metadata": {},
   "outputs": [],
   "source": [
    "import numpy as np\n",
    "t = np.linspace(-6, 6, 20)\n",
    "sin_t = np.sin(t)\n",
    "cos_t = np.cos(t)"
   ]
  },
  {
   "cell_type": "code",
   "execution_count": 3,
   "metadata": {},
   "outputs": [
    {
     "data": {
      "text/html": [
       "<div>\n",
       "<style scoped>\n",
       "    .dataframe tbody tr th:only-of-type {\n",
       "        vertical-align: middle;\n",
       "    }\n",
       "\n",
       "    .dataframe tbody tr th {\n",
       "        vertical-align: top;\n",
       "    }\n",
       "\n",
       "    .dataframe thead th {\n",
       "        text-align: right;\n",
       "    }\n",
       "</style>\n",
       "<table border=\"1\" class=\"dataframe\">\n",
       "  <thead>\n",
       "    <tr style=\"text-align: right;\">\n",
       "      <th></th>\n",
       "      <th>t</th>\n",
       "      <th>sin</th>\n",
       "      <th>cos</th>\n",
       "    </tr>\n",
       "  </thead>\n",
       "  <tbody>\n",
       "    <tr>\n",
       "      <th>0</th>\n",
       "      <td>-6.000000</td>\n",
       "      <td>0.279415</td>\n",
       "      <td>0.960170</td>\n",
       "    </tr>\n",
       "    <tr>\n",
       "      <th>1</th>\n",
       "      <td>-5.368421</td>\n",
       "      <td>0.792419</td>\n",
       "      <td>0.609977</td>\n",
       "    </tr>\n",
       "    <tr>\n",
       "      <th>2</th>\n",
       "      <td>-4.736842</td>\n",
       "      <td>0.999701</td>\n",
       "      <td>0.024451</td>\n",
       "    </tr>\n",
       "    <tr>\n",
       "      <th>3</th>\n",
       "      <td>-4.105263</td>\n",
       "      <td>0.821291</td>\n",
       "      <td>-0.570509</td>\n",
       "    </tr>\n",
       "    <tr>\n",
       "      <th>4</th>\n",
       "      <td>-3.473684</td>\n",
       "      <td>0.326021</td>\n",
       "      <td>-0.945363</td>\n",
       "    </tr>\n",
       "    <tr>\n",
       "      <th>5</th>\n",
       "      <td>-2.842105</td>\n",
       "      <td>-0.295030</td>\n",
       "      <td>-0.955488</td>\n",
       "    </tr>\n",
       "    <tr>\n",
       "      <th>6</th>\n",
       "      <td>-2.210526</td>\n",
       "      <td>-0.802257</td>\n",
       "      <td>-0.596979</td>\n",
       "    </tr>\n",
       "    <tr>\n",
       "      <th>7</th>\n",
       "      <td>-1.578947</td>\n",
       "      <td>-0.999967</td>\n",
       "      <td>-0.008151</td>\n",
       "    </tr>\n",
       "    <tr>\n",
       "      <th>8</th>\n",
       "      <td>-0.947368</td>\n",
       "      <td>-0.811882</td>\n",
       "      <td>0.583822</td>\n",
       "    </tr>\n",
       "    <tr>\n",
       "      <th>9</th>\n",
       "      <td>-0.315789</td>\n",
       "      <td>-0.310567</td>\n",
       "      <td>0.950551</td>\n",
       "    </tr>\n",
       "    <tr>\n",
       "      <th>10</th>\n",
       "      <td>0.315789</td>\n",
       "      <td>0.310567</td>\n",
       "      <td>0.950551</td>\n",
       "    </tr>\n",
       "    <tr>\n",
       "      <th>11</th>\n",
       "      <td>0.947368</td>\n",
       "      <td>0.811882</td>\n",
       "      <td>0.583822</td>\n",
       "    </tr>\n",
       "    <tr>\n",
       "      <th>12</th>\n",
       "      <td>1.578947</td>\n",
       "      <td>0.999967</td>\n",
       "      <td>-0.008151</td>\n",
       "    </tr>\n",
       "    <tr>\n",
       "      <th>13</th>\n",
       "      <td>2.210526</td>\n",
       "      <td>0.802257</td>\n",
       "      <td>-0.596979</td>\n",
       "    </tr>\n",
       "    <tr>\n",
       "      <th>14</th>\n",
       "      <td>2.842105</td>\n",
       "      <td>0.295030</td>\n",
       "      <td>-0.955488</td>\n",
       "    </tr>\n",
       "    <tr>\n",
       "      <th>15</th>\n",
       "      <td>3.473684</td>\n",
       "      <td>-0.326021</td>\n",
       "      <td>-0.945363</td>\n",
       "    </tr>\n",
       "    <tr>\n",
       "      <th>16</th>\n",
       "      <td>4.105263</td>\n",
       "      <td>-0.821291</td>\n",
       "      <td>-0.570509</td>\n",
       "    </tr>\n",
       "    <tr>\n",
       "      <th>17</th>\n",
       "      <td>4.736842</td>\n",
       "      <td>-0.999701</td>\n",
       "      <td>0.024451</td>\n",
       "    </tr>\n",
       "    <tr>\n",
       "      <th>18</th>\n",
       "      <td>5.368421</td>\n",
       "      <td>-0.792419</td>\n",
       "      <td>0.609977</td>\n",
       "    </tr>\n",
       "    <tr>\n",
       "      <th>19</th>\n",
       "      <td>6.000000</td>\n",
       "      <td>-0.279415</td>\n",
       "      <td>0.960170</td>\n",
       "    </tr>\n",
       "  </tbody>\n",
       "</table>\n",
       "</div>"
      ],
      "text/plain": [
       "           t       sin       cos\n",
       "0  -6.000000  0.279415  0.960170\n",
       "1  -5.368421  0.792419  0.609977\n",
       "2  -4.736842  0.999701  0.024451\n",
       "3  -4.105263  0.821291 -0.570509\n",
       "4  -3.473684  0.326021 -0.945363\n",
       "5  -2.842105 -0.295030 -0.955488\n",
       "6  -2.210526 -0.802257 -0.596979\n",
       "7  -1.578947 -0.999967 -0.008151\n",
       "8  -0.947368 -0.811882  0.583822\n",
       "9  -0.315789 -0.310567  0.950551\n",
       "10  0.315789  0.310567  0.950551\n",
       "11  0.947368  0.811882  0.583822\n",
       "12  1.578947  0.999967 -0.008151\n",
       "13  2.210526  0.802257 -0.596979\n",
       "14  2.842105  0.295030 -0.955488\n",
       "15  3.473684 -0.326021 -0.945363\n",
       "16  4.105263 -0.821291 -0.570509\n",
       "17  4.736842 -0.999701  0.024451\n",
       "18  5.368421 -0.792419  0.609977\n",
       "19  6.000000 -0.279415  0.960170"
      ]
     },
     "execution_count": 3,
     "metadata": {},
     "output_type": "execute_result"
    }
   ],
   "source": [
    "pd.DataFrame({'t': t, 'sin': sin_t, 'cos': cos_t}) "
   ]
  },
  {
   "cell_type": "code",
   "execution_count": 4,
   "metadata": {},
   "outputs": [
    {
     "data": {
      "text/plain": [
       "(40, 8)"
      ]
     },
     "execution_count": 4,
     "metadata": {},
     "output_type": "execute_result"
    }
   ],
   "source": [
    "data.shape    # 40 rows and 8 columns"
   ]
  },
  {
   "cell_type": "code",
   "execution_count": 5,
   "metadata": {},
   "outputs": [
    {
     "name": "stdout",
     "output_type": "stream",
     "text": [
      "0     Female\n",
      "1       Male\n",
      "2       Male\n",
      "3       Male\n",
      "4     Female\n",
      "5     Female\n",
      "6     Female\n",
      "7     Female\n",
      "8       Male\n",
      "9       Male\n",
      "10    Female\n",
      "11      Male\n",
      "12      Male\n",
      "13    Female\n",
      "14    Female\n",
      "15    Female\n",
      "16    Female\n",
      "17      Male\n",
      "18    Female\n",
      "19      Male\n",
      "20      Male\n",
      "21      Male\n",
      "22    Female\n",
      "23      Male\n",
      "24    Female\n",
      "25      Male\n",
      "26    Female\n",
      "27      Male\n",
      "28    Female\n",
      "29    Female\n",
      "30    Female\n",
      "31      Male\n",
      "32      Male\n",
      "33      Male\n",
      "34    Female\n",
      "35    Female\n",
      "36      Male\n",
      "37    Female\n",
      "38      Male\n",
      "39      Male\n",
      "Name: Gender, dtype: object\n"
     ]
    }
   ],
   "source": [
    "print(data['Gender'])  # Columns can be addressed by name"
   ]
  },
  {
   "cell_type": "code",
   "execution_count": 6,
   "metadata": {},
   "outputs": [
    {
     "data": {
      "text/plain": [
       "109.45"
      ]
     },
     "execution_count": 6,
     "metadata": {},
     "output_type": "execute_result"
    }
   ],
   "source": [
    "# Simpler selector\n",
    "data[data['Gender'] == 'Female']['VIQ'].mean()"
   ]
  },
  {
   "cell_type": "code",
   "execution_count": 7,
   "metadata": {},
   "outputs": [],
   "source": [
    "groupby_gender = data.groupby('Gender')"
   ]
  },
  {
   "cell_type": "code",
   "execution_count": 8,
   "metadata": {},
   "outputs": [
    {
     "name": "stdout",
     "output_type": "stream",
     "text": [
      "('Female', 109.45)\n",
      "('Male', 115.25)\n"
     ]
    }
   ],
   "source": [
    "for gender, value in groupby_gender['VIQ']:\n",
    "    print((gender, value.mean()))"
   ]
  },
  {
   "cell_type": "code",
   "execution_count": 9,
   "metadata": {},
   "outputs": [
    {
     "data": {
      "text/html": [
       "<div>\n",
       "<style scoped>\n",
       "    .dataframe tbody tr th:only-of-type {\n",
       "        vertical-align: middle;\n",
       "    }\n",
       "\n",
       "    .dataframe tbody tr th {\n",
       "        vertical-align: top;\n",
       "    }\n",
       "\n",
       "    .dataframe thead th {\n",
       "        text-align: right;\n",
       "    }\n",
       "</style>\n",
       "<table border=\"1\" class=\"dataframe\">\n",
       "  <thead>\n",
       "    <tr style=\"text-align: right;\">\n",
       "      <th></th>\n",
       "      <th>Unnamed: 0</th>\n",
       "      <th>FSIQ</th>\n",
       "      <th>VIQ</th>\n",
       "      <th>PIQ</th>\n",
       "      <th>Weight</th>\n",
       "      <th>Height</th>\n",
       "      <th>MRI_Count</th>\n",
       "    </tr>\n",
       "    <tr>\n",
       "      <th>Gender</th>\n",
       "      <th></th>\n",
       "      <th></th>\n",
       "      <th></th>\n",
       "      <th></th>\n",
       "      <th></th>\n",
       "      <th></th>\n",
       "      <th></th>\n",
       "    </tr>\n",
       "  </thead>\n",
       "  <tbody>\n",
       "    <tr>\n",
       "      <th>Female</th>\n",
       "      <td>19.65</td>\n",
       "      <td>111.9</td>\n",
       "      <td>109.45</td>\n",
       "      <td>110.45</td>\n",
       "      <td>137.200000</td>\n",
       "      <td>65.765000</td>\n",
       "      <td>862654.6</td>\n",
       "    </tr>\n",
       "    <tr>\n",
       "      <th>Male</th>\n",
       "      <td>21.35</td>\n",
       "      <td>115.0</td>\n",
       "      <td>115.25</td>\n",
       "      <td>111.60</td>\n",
       "      <td>166.444444</td>\n",
       "      <td>71.431579</td>\n",
       "      <td>954855.4</td>\n",
       "    </tr>\n",
       "  </tbody>\n",
       "</table>\n",
       "</div>"
      ],
      "text/plain": [
       "        Unnamed: 0   FSIQ     VIQ     PIQ      Weight     Height  MRI_Count\n",
       "Gender                                                                     \n",
       "Female       19.65  111.9  109.45  110.45  137.200000  65.765000   862654.6\n",
       "Male         21.35  115.0  115.25  111.60  166.444444  71.431579   954855.4"
      ]
     },
     "execution_count": 9,
     "metadata": {},
     "output_type": "execute_result"
    }
   ],
   "source": [
    "groupby_gender.mean()"
   ]
  },
  {
   "cell_type": "code",
   "execution_count": 10,
   "metadata": {},
   "outputs": [
    {
     "data": {
      "text/plain": [
       "array([[<matplotlib.axes._subplots.AxesSubplot object at 0x0000029040E8FBA8>,\n",
       "        <matplotlib.axes._subplots.AxesSubplot object at 0x0000029040EFF5C0>,\n",
       "        <matplotlib.axes._subplots.AxesSubplot object at 0x0000029040F34AC8>],\n",
       "       [<matplotlib.axes._subplots.AxesSubplot object at 0x0000029040F740B8>,\n",
       "        <matplotlib.axes._subplots.AxesSubplot object at 0x0000029040FA4668>,\n",
       "        <matplotlib.axes._subplots.AxesSubplot object at 0x0000029040FD5C18>],\n",
       "       [<matplotlib.axes._subplots.AxesSubplot object at 0x0000029041012208>,\n",
       "        <matplotlib.axes._subplots.AxesSubplot object at 0x00000290410427F0>,\n",
       "        <matplotlib.axes._subplots.AxesSubplot object at 0x0000029041042828>]],\n",
       "      dtype=object)"
      ]
     },
     "execution_count": 10,
     "metadata": {},
     "output_type": "execute_result"
    }
   ],
   "source": [
    "pd.plotting.scatter_matrix(data[['Weight', 'Height', 'MRI_Count']])"
   ]
  },
  {
   "cell_type": "code",
   "execution_count": 11,
   "metadata": {},
   "outputs": [
    {
     "data": {
      "text/plain": [
       "array([[<matplotlib.axes._subplots.AxesSubplot object at 0x00000290413019B0>,\n",
       "        <matplotlib.axes._subplots.AxesSubplot object at 0x0000029041351128>,\n",
       "        <matplotlib.axes._subplots.AxesSubplot object at 0x00000290413826A0>],\n",
       "       [<matplotlib.axes._subplots.AxesSubplot object at 0x00000290413B3C50>,\n",
       "        <matplotlib.axes._subplots.AxesSubplot object at 0x00000290413F1240>,\n",
       "        <matplotlib.axes._subplots.AxesSubplot object at 0x00000290414217F0>],\n",
       "       [<matplotlib.axes._subplots.AxesSubplot object at 0x0000029041454DA0>,\n",
       "        <matplotlib.axes._subplots.AxesSubplot object at 0x00000290414923C8>,\n",
       "        <matplotlib.axes._subplots.AxesSubplot object at 0x0000029041492400>]],\n",
       "      dtype=object)"
      ]
     },
     "execution_count": 11,
     "metadata": {},
     "output_type": "execute_result"
    },
    {
     "data": {
      "image/png": "[encoded data removed]",
      "text/plain": [
       "<Figure size 432x288 with 9 Axes>"
      ]
     },
     "metadata": {
      "needs_background": "light"
     },
     "output_type": "display_data"
    }
   ],
   "source": [
    "pd.plotting.scatter_matrix(data[['PIQ', 'VIQ', 'FSIQ']])  "
   ]
  },
  {
   "cell_type": "code",
   "execution_count": 12,
   "metadata": {},
   "outputs": [],
   "source": [
    "from scipy import stats"
   ]
  },
  {
   "cell_type": "code",
   "execution_count": 13,
   "metadata": {},
   "outputs": [
    {
     "data": {
      "text/plain": [
       "Ttest_1sampResult(statistic=30.088099970849328, pvalue=1.3289196468728067e-28)"
      ]
     },
     "execution_count": 13,
     "metadata": {},
     "output_type": "execute_result"
    }
   ],
   "source": [
    "stats.ttest_1samp(data['VIQ'], 0)   "
   ]
  },
  {
   "cell_type": "code",
   "execution_count": 14,
   "metadata": {},
   "outputs": [
    {
     "data": {
      "text/plain": [
       "Ttest_indResult(statistic=-0.7726161723275011, pvalue=0.44452876778583217)"
      ]
     },
     "execution_count": 14,
     "metadata": {},
     "output_type": "execute_result"
    }
   ],
   "source": [
    "female_viq = data[data['Gender'] == 'Female']['VIQ']\n",
    "male_viq = data[data['Gender'] == 'Male']['VIQ']\n",
    "stats.ttest_ind(female_viq, male_viq)"
   ]
  },
  {
   "cell_type": "code",
   "execution_count": 15,
   "metadata": {},
   "outputs": [
    {
     "data": {
      "text/plain": [
       "Ttest_indResult(statistic=0.465637596380964, pvalue=0.6427725009414841)"
      ]
     },
     "execution_count": 15,
     "metadata": {},
     "output_type": "execute_result"
    }
   ],
   "source": [
    "stats.ttest_ind(data['FSIQ'], data['PIQ']) "
   ]
  },
  {
   "cell_type": "code",
   "execution_count": 16,
   "metadata": {},
   "outputs": [
    {
     "data": {
      "text/plain": [
       "Ttest_relResult(statistic=1.7842019405859857, pvalue=0.08217263818364236)"
      ]
     },
     "execution_count": 16,
     "metadata": {},
     "output_type": "execute_result"
    }
   ],
   "source": [
    "stats.ttest_rel(data['FSIQ'], data['PIQ']) "
   ]
  },
  {
   "cell_type": "code",
   "execution_count": 17,
   "metadata": {},
   "outputs": [
    {
     "data": {
      "text/plain": [
       "Ttest_1sampResult(statistic=1.7842019405859857, pvalue=0.08217263818364236)"
      ]
     },
     "execution_count": 17,
     "metadata": {},
     "output_type": "execute_result"
    }
   ],
   "source": [
    "stats.ttest_1samp(data['FSIQ'] - data['PIQ'], 0) "
   ]
  },
  {
   "cell_type": "code",
   "execution_count": 18,
   "metadata": {},
   "outputs": [
    {
     "data": {
      "text/plain": [
       "WilcoxonResult(statistic=274.5, pvalue=0.10659492713506856)"
      ]
     },
     "execution_count": 18,
     "metadata": {},
     "output_type": "execute_result"
    }
   ],
   "source": [
    "stats.wilcoxon(data['FSIQ'], data['PIQ']) "
   ]
  },
  {
   "cell_type": "code",
   "execution_count": 19,
   "metadata": {},
   "outputs": [],
   "source": [
    "x = np.linspace(-5, 5, 20)\n",
    "np.random.seed(1)\n",
    "# normal distributed noise\n",
    "y = -5 + 3*x + 4 * np.random.normal(size=x.shape)\n",
    "# Create a data frame containing all the relevant variables\n",
    "data = pd.DataFrame({'x': x, 'y': y})"
   ]
  },
  {
   "cell_type": "code",
   "execution_count": 20,
   "metadata": {},
   "outputs": [],
   "source": [
    "from statsmodels.formula.api import ols\n",
    "model = ols(\"y ~ x\", data).fit()"
   ]
  },
  {
   "cell_type": "code",
   "execution_count": 21,
   "metadata": {},
   "outputs": [
    {
     "name": "stdout",
     "output_type": "stream",
     "text": [
      "                            OLS Regression Results                            \n",
      "==============================================================================\n",
      "Dep. Variable:                      y   R-squared:                       0.804\n",
      "Model:                            OLS   Adj. R-squared:                  0.794\n",
      "Method:                 Least Squares   F-statistic:                     74.03\n",
      "Date:                Tue, 29 Oct 2019   Prob (F-statistic):           8.56e-08\n",
      "Time:                        20:41:28   Log-Likelihood:                -57.988\n",
      "No. Observations:                  20   AIC:                             120.0\n",
      "Df Residuals:                      18   BIC:                             122.0\n",
      "Df Model:                           1                                         \n",
      "Covariance Type:            nonrobust                                         \n",
      "==============================================================================\n",
      "                 coef    std err          t      P>|t|      [0.025      0.975]\n",
      "------------------------------------------------------------------------------\n",
      "Intercept     -5.5335      1.036     -5.342      0.000      -7.710      -3.357\n",
      "x              2.9369      0.341      8.604      0.000       2.220       3.654\n",
      "==============================================================================\n",
      "Omnibus:                        0.100   Durbin-Watson:                   2.956\n",
      "Prob(Omnibus):                  0.951   Jarque-Bera (JB):                0.322\n",
      "Skew:                          -0.058   Prob(JB):                        0.851\n",
      "Kurtosis:                       2.390   Cond. No.                         3.03\n",
      "==============================================================================\n",
      "\n",
      "Warnings:\n",
      "[1] Standard Errors assume that the covariance matrix of the errors is correctly specified.\n"
     ]
    }
   ],
   "source": [
    "print(model.summary())"
   ]
  },
  {
   "cell_type": "code",
   "execution_count": 22,
   "metadata": {},
   "outputs": [],
   "source": [
    "data = pd.read_csv('brain_size.csv', sep=';', na_values=\".\")"
   ]
  },
  {
   "cell_type": "code",
   "execution_count": 23,
   "metadata": {},
   "outputs": [
    {
     "name": "stdout",
     "output_type": "stream",
     "text": [
      "                            OLS Regression Results                            \n",
      "==============================================================================\n",
      "Dep. Variable:                    VIQ   R-squared:                       0.015\n",
      "Model:                            OLS   Adj. R-squared:                 -0.010\n",
      "Method:                 Least Squares   F-statistic:                    0.5969\n",
      "Date:                Tue, 29 Oct 2019   Prob (F-statistic):              0.445\n",
      "Time:                        20:41:28   Log-Likelihood:                -182.42\n",
      "No. Observations:                  40   AIC:                             368.8\n",
      "Df Residuals:                      38   BIC:                             372.2\n",
      "Df Model:                           1                                         \n",
      "Covariance Type:            nonrobust                                         \n",
      "==================================================================================\n",
      "                     coef    std err          t      P>|t|      [0.025      0.975]\n",
      "----------------------------------------------------------------------------------\n",
      "Intercept        109.4500      5.308     20.619      0.000      98.704     120.196\n",
      "Gender[T.Male]     5.8000      7.507      0.773      0.445      -9.397      20.997\n",
      "==============================================================================\n",
      "Omnibus:                       26.188   Durbin-Watson:                   1.709\n",
      "Prob(Omnibus):                  0.000   Jarque-Bera (JB):                3.703\n",
      "Skew:                           0.010   Prob(JB):                        0.157\n",
      "Kurtosis:                       1.510   Cond. No.                         2.62\n",
      "==============================================================================\n",
      "\n",
      "Warnings:\n",
      "[1] Standard Errors assume that the covariance matrix of the errors is correctly specified.\n"
     ]
    }
   ],
   "source": [
    "model = ols(\"VIQ ~ Gender + 1\", data).fit()\n",
    "print(model.summary())"
   ]
  },
  {
   "cell_type": "code",
   "execution_count": 24,
   "metadata": {},
   "outputs": [],
   "source": [
    "model = ols('VIQ ~ C(Gender)', data).fit()"
   ]
  },
  {
   "cell_type": "code",
   "execution_count": 25,
   "metadata": {},
   "outputs": [
    {
     "name": "stdout",
     "output_type": "stream",
     "text": [
      "     iq  type\n",
      "0   133  fsiq\n",
      "1   140  fsiq\n",
      "2   139  fsiq\n",
      "3   133  fsiq\n",
      "4   137  fsiq\n",
      "5    99  fsiq\n",
      "6   138  fsiq\n",
      "7    92  fsiq\n",
      "8    89  fsiq\n",
      "9   133  fsiq\n",
      "10  132  fsiq\n",
      "11  141  fsiq\n",
      "12  135  fsiq\n",
      "13  140  fsiq\n",
      "14   96  fsiq\n",
      "15   83  fsiq\n",
      "16  132  fsiq\n",
      "17  100  fsiq\n",
      "18  101  fsiq\n",
      "19   80  fsiq\n",
      "20   83  fsiq\n",
      "21   97  fsiq\n",
      "22  135  fsiq\n",
      "23  139  fsiq\n",
      "24   91  fsiq\n",
      "25  141  fsiq\n",
      "26   85  fsiq\n",
      "27  103  fsiq\n",
      "28   77  fsiq\n",
      "29  130  fsiq\n",
      "..  ...   ...\n",
      "10  124   piq\n",
      "11  128   piq\n",
      "12  124   piq\n",
      "13  147   piq\n",
      "14   90   piq\n",
      "15   96   piq\n",
      "16  120   piq\n",
      "17  102   piq\n",
      "18   84   piq\n",
      "19   86   piq\n",
      "20   86   piq\n",
      "21   84   piq\n",
      "22  134   piq\n",
      "23  128   piq\n",
      "24  102   piq\n",
      "25  131   piq\n",
      "26   84   piq\n",
      "27  110   piq\n",
      "28   72   piq\n",
      "29  124   piq\n",
      "30  132   piq\n",
      "31  137   piq\n",
      "32  110   piq\n",
      "33   86   piq\n",
      "34   81   piq\n",
      "35  128   piq\n",
      "36  124   piq\n",
      "37   94   piq\n",
      "38   74   piq\n",
      "39   89   piq\n",
      "\n",
      "[80 rows x 2 columns]\n"
     ]
    }
   ],
   "source": [
    "data_fisq = pd.DataFrame({'iq': data['FSIQ'], 'type': 'fsiq'})\n",
    "data_piq = pd.DataFrame({'iq': data['PIQ'], 'type': 'piq'})\n",
    "data_long = pd.concat((data_fisq, data_piq))\n",
    "print(data_long)"
   ]
  },
  {
   "cell_type": "code",
   "execution_count": 26,
   "metadata": {},
   "outputs": [
    {
     "name": "stdout",
     "output_type": "stream",
     "text": [
      "                            OLS Regression Results                            \n",
      "==============================================================================\n",
      "Dep. Variable:                     iq   R-squared:                       0.003\n",
      "Model:                            OLS   Adj. R-squared:                 -0.010\n",
      "Method:                 Least Squares   F-statistic:                    0.2168\n",
      "Date:                Tue, 29 Oct 2019   Prob (F-statistic):              0.643\n",
      "Time:                        20:41:28   Log-Likelihood:                -364.35\n",
      "No. Observations:                  80   AIC:                             732.7\n",
      "Df Residuals:                      78   BIC:                             737.5\n",
      "Df Model:                           1                                         \n",
      "Covariance Type:            nonrobust                                         \n",
      "===============================================================================\n",
      "                  coef    std err          t      P>|t|      [0.025      0.975]\n",
      "-------------------------------------------------------------------------------\n",
      "Intercept     113.4500      3.683     30.807      0.000     106.119     120.781\n",
      "type[T.piq]    -2.4250      5.208     -0.466      0.643     -12.793       7.943\n",
      "==============================================================================\n",
      "Omnibus:                      164.598   Durbin-Watson:                   1.531\n",
      "Prob(Omnibus):                  0.000   Jarque-Bera (JB):                8.062\n",
      "Skew:                          -0.110   Prob(JB):                       0.0178\n",
      "Kurtosis:                       1.461   Cond. No.                         2.62\n",
      "==============================================================================\n",
      "\n",
      "Warnings:\n",
      "[1] Standard Errors assume that the covariance matrix of the errors is correctly specified.\n"
     ]
    }
   ],
   "source": [
    "model = ols(\"iq ~ type\", data_long).fit()\n",
    "print(model.summary())"
   ]
  },
  {
   "cell_type": "code",
   "execution_count": 28,
   "metadata": {},
   "outputs": [
    {
     "data": {
      "text/plain": [
       "Ttest_indResult(statistic=0.465637596380964, pvalue=0.6427725009414841)"
      ]
     },
     "execution_count": 28,
     "metadata": {},
     "output_type": "execute_result"
    }
   ],
   "source": [
    "stats.ttest_ind(data['FSIQ'], data['PIQ'])  "
   ]
  },
  {
   "cell_type": "code",
   "execution_count": 34,
   "metadata": {},
   "outputs": [
    {
     "name": "stdout",
     "output_type": "stream",
     "text": [
      "                            OLS Regression Results                            \n",
      "==============================================================================\n",
      "Dep. Variable:            sepal_width   R-squared:                       0.478\n",
      "Model:                            OLS   Adj. R-squared:                  0.468\n",
      "Method:                 Least Squares   F-statistic:                     44.63\n",
      "Date:                Tue, 29 Oct 2019   Prob (F-statistic):           1.58e-20\n",
      "Time:                        20:44:57   Log-Likelihood:                -38.185\n",
      "No. Observations:                 150   AIC:                             84.37\n",
      "Df Residuals:                     146   BIC:                             96.41\n",
      "Df Model:                           3                                         \n",
      "Covariance Type:            nonrobust                                         \n",
      "======================================================================================\n",
      "                         coef    std err          t      P>|t|      [0.025      0.975]\n",
      "--------------------------------------------------------------------------------------\n",
      "Intercept              2.9813      0.099     29.989      0.000       2.785       3.178\n",
      "name[T.versicolor]    -1.4821      0.181     -8.190      0.000      -1.840      -1.124\n",
      "name[T.virginica]     -1.6635      0.256     -6.502      0.000      -2.169      -1.158\n",
      "petal_length           0.2983      0.061      4.920      0.000       0.178       0.418\n",
      "==============================================================================\n",
      "Omnibus:                        2.868   Durbin-Watson:                   1.753\n",
      "Prob(Omnibus):                  0.238   Jarque-Bera (JB):                2.885\n",
      "Skew:                          -0.082   Prob(JB):                        0.236\n",
      "Kurtosis:                       3.659   Cond. No.                         54.0\n",
      "==============================================================================\n",
      "\n",
      "Warnings:\n",
      "[1] Standard Errors assume that the covariance matrix of the errors is correctly specified.\n"
     ]
    }
   ],
   "source": [
    "data2 = pd.read_csv('iris.csv')\n",
    "model = ols('sepal_width ~ name + petal_length', data2).fit()\n",
    "print(model.summary())"
   ]
  },
  {
   "cell_type": "code",
   "execution_count": 31,
   "metadata": {},
   "outputs": [
    {
     "name": "stdout",
     "output_type": "stream",
     "text": [
      "<F test: F=array([[3.24533535]]), p=0.07369058781700064, df_denom=146, df_num=1>\n"
     ]
    }
   ],
   "source": [
    "print(model.f_test([0, 1, -1, 0]))  "
   ]
  },
  {
   "cell_type": "code",
   "execution_count": 40,
   "metadata": {},
   "outputs": [
    {
     "data": {
      "text/plain": [
       "array([[<matplotlib.axes._subplots.AxesSubplot object at 0x0000029047184828>,\n",
       "        <matplotlib.axes._subplots.AxesSubplot object at 0x0000029046D9D390>,\n",
       "        <matplotlib.axes._subplots.AxesSubplot object at 0x00000290473F5908>,\n",
       "        <matplotlib.axes._subplots.AxesSubplot object at 0x0000029046F202E8>],\n",
       "       [<matplotlib.axes._subplots.AxesSubplot object at 0x0000029046F4CC88>,\n",
       "        <matplotlib.axes._subplots.AxesSubplot object at 0x0000029046F85668>,\n",
       "        <matplotlib.axes._subplots.AxesSubplot object at 0x0000029046FC0048>,\n",
       "        <matplotlib.axes._subplots.AxesSubplot object at 0x0000029046FEDA20>],\n",
       "       [<matplotlib.axes._subplots.AxesSubplot object at 0x0000029046FEDA58>,\n",
       "        <matplotlib.axes._subplots.AxesSubplot object at 0x0000029047055D68>,\n",
       "        <matplotlib.axes._subplots.AxesSubplot object at 0x0000029047091748>,\n",
       "        <matplotlib.axes._subplots.AxesSubplot object at 0x00000290470CB128>],\n",
       "       [<matplotlib.axes._subplots.AxesSubplot object at 0x00000290470DB7F0>,\n",
       "        <matplotlib.axes._subplots.AxesSubplot object at 0x00000290471171D0>,\n",
       "        <matplotlib.axes._subplots.AxesSubplot object at 0x0000029047416B70>,\n",
       "        <matplotlib.axes._subplots.AxesSubplot object at 0x0000029047450550>]],\n",
       "      dtype=object)"
      ]
     },
     "execution_count": 40,
     "metadata": {},
     "output_type": "execute_result"
    },
    {
     "data": {
      "image/png": "[encoded data removed]",
      "text/plain": [
       "<Figure size 432x288 with 16 Axes>"
      ]
     },
     "metadata": {
      "needs_background": "light"
     },
     "output_type": "display_data"
    }
   ],
   "source": [
    "pd.plotting.scatter_matrix(data2, )"
   ]
  },
  {
   "cell_type": "code",
   "execution_count": 39,
   "metadata": {},
   "outputs": [
    {
     "data": {
      "text/plain": [
       "<seaborn.axisgrid.PairGrid at 0x29045b0b6d8>"
      ]
     },
     "execution_count": 39,
     "metadata": {},
     "output_type": "execute_result"
    },
    {
     "data": {
      "image/png": "[encoded data removed]",
      "text/plain": [
       "<Figure size 806.85x720 with 20 Axes>"
      ]
     },
     "metadata": {
      "needs_background": "light"
     },
     "output_type": "display_data"
    }
   ],
   "source": [
    "import seaborn as sns\n",
    "sns.set(style=\"ticks\", color_codes=True)\n",
    "iris = sns.load_dataset(\"iris\")\n",
    "%matplotlib inline\n",
    "\n",
    "iris = sns.load_dataset(\"iris\")\n",
    "sns.pairplot(iris, hue=\"species\")"
   ]
  },
  {
   "cell_type": "code",
   "execution_count": null,
   "metadata": {},
   "outputs": [],
   "source": []
  }
 ],
 "metadata": {
  "kernelspec": {
   "display_name": "Python 3",
   "language": "python",
   "name": "python3"
  },
  "language_info": {
   "codemirror_mode": {
    "name": "ipython",
    "version": 3
   },
   "file_extension": ".py",
   "mimetype": "text/x-python",
   "name": "python",
   "nbconvert_exporter": "python",
   "pygments_lexer": "ipython3",
   "version": "3.7.3"
  }
 },
 "nbformat": 4,
 "nbformat_minor": 2
}
